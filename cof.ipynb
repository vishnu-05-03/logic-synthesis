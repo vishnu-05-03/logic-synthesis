{
 "cells": [
  {
   "cell_type": "code",
   "execution_count": 4,
   "metadata": {},
   "outputs": [
    {
     "name": "stdout",
     "output_type": "stream",
     "text": [
      "Bc+bc\n"
     ]
    }
   ],
   "source": [
    "# Program to find the cofactor of a boolean expression with respect to a term\n",
    "\n",
    "\"\"\"\n",
    "Input format is SoP and COMPLIMENTED literal is represented BY UPPER CASE and UNCOMPLEMENTED literal is represented BY LOWER CASE.\n",
    "Example: A'B'C + A'BC + AB'C + ABC\n",
    "Enter the expression: ABc+Abc+aBc+abc\n",
    "Enter the term with respect to which you want to find the cofactor: a\n",
    "Output: Bc+bc\n",
    "\"\"\"\n",
    "\n",
    "# Input SoP expression\n",
    "f = 'ABc+Abc+aBc+abc' #input(\"Enter the expression: \")\n",
    "\n",
    "# Input the term with respect to which you want to find the cofactor. It can be term with more than one literals\n",
    "cwt = 'A' #input(\"Enter the term with respect to which you want to find the cofactor: \")\n",
    "\n",
    "# seperating the string for further processing\n",
    "f = f.split(\"+\")\n",
    "f = [list(i) for i in f]\n",
    "\n",
    "# Function for finding the cofactor of a boolean SoP expression with respect to a single literal\n",
    "def cofactor(f, cwt):\n",
    "\n",
    "    for i in range(len(f)):\n",
    "        if cwt.islower():\n",
    "            f[i] = [j.replace(cwt.lower(), \"1\") for j in f[i]]\n",
    "            f[i] = [j.replace(cwt.upper(), \"0\") for j in f[i]]\n",
    "        else:\n",
    "            f[i] = [j.replace(cwt.lower(), \"0\") for j in f[i]]\n",
    "            f[i] = [j.replace(cwt.upper(), \"1\") for j in f[i]]\n",
    "\n",
    "    # f[:] is used to make a copy of f\n",
    "    for i in f[:]:\n",
    "        rem = False\n",
    "\n",
    "        for j in i:\n",
    "            if j == '0':\n",
    "                rem = True\n",
    "                break\n",
    "        if rem:\n",
    "            f.remove(i)\n",
    "\n",
    "        for j in i:\n",
    "            if j == '1':\n",
    "                i.remove(j)\n",
    "                if len(i) == 0:\n",
    "                    i.append(\"1\")\n",
    "\n",
    "    for i in f:\n",
    "        if i == ['1']:\n",
    "            return i\n",
    "    return f\n",
    "\n",
    "# cwt is split to list and iterated over each literal\n",
    "cwt = list(cwt)\n",
    "for i in cwt:\n",
    "    f = cofactor(f, i)\n",
    "\n",
    "# Combining the reduced expression to a single string\n",
    "reduced_exp = \"\"\n",
    "for i in f:\n",
    "    reduced_exp += \"\".join(i)\n",
    "    reduced_exp += \"+\"\n",
    "reduced_exp = reduced_exp.rstrip(\"+\")\n",
    "\n",
    "\n",
    "# Printing the reduced expression\n",
    "print(reduced_exp)\n"
   ]
  },
  {
   "cell_type": "code",
   "execution_count": 74,
   "metadata": {},
   "outputs": [
    {
     "name": "stdout",
     "output_type": "stream",
     "text": [
      "cd+ab+cdab\n"
     ]
    }
   ],
   "source": [
    "def AND(f1, f2):\n",
    "\n",
    "    f1 = f1.split(\"+\")\n",
    "    f1 = [list(i) for i in f1]\n",
    "\n",
    "    f2 = f2.split(\"+\")\n",
    "    f2 = [list(i) for i in f2]\n",
    "\n",
    "    F = []\n",
    "\n",
    "    for i in f1:\n",
    "        for j in f2:\n",
    "            F.append(i+j)\n",
    "    \n",
    "    for i in range(len(F)):\n",
    "        F[i] = [x for x in set(F[i])]\n",
    "\n",
    "    F = [list(x) for x in set(map(tuple, F))]\n",
    "\n",
    "    f = \"\"\n",
    "    for i in F:\n",
    "        f += \"\".join(i)\n",
    "        f += \"+\"\n",
    "    f = f.rstrip(\"+\")\n",
    "\n",
    "    return f\n",
    "\n",
    "f1 = \"ab+cd\"\n",
    "f2 = \"ab+cd\"\n",
    "\n",
    "print(AND(f1,f2))"
   ]
  },
  {
   "cell_type": "code",
   "execution_count": 64,
   "metadata": {},
   "outputs": [
    {
     "name": "stdout",
     "output_type": "stream",
     "text": [
      "[1, 2, 3, 4, 5, 6]\n"
     ]
    }
   ],
   "source": [
    "list1 = [6,1, 2, 3, 4, 5, 1, 2, 3]\n",
    "\n",
    "# Remove duplicate elements using a list comprehension\n",
    "list2 = [x for x in set(list1)]\n",
    "\n",
    "# Print the list without duplicates\n",
    "print(list2)\n"
   ]
  },
  {
   "cell_type": "code",
   "execution_count": 58,
   "metadata": {},
   "outputs": [
    {
     "name": "stdout",
     "output_type": "stream",
     "text": [
      "[[1, 2], [3, 4], [5, 6]]\n"
     ]
    }
   ],
   "source": [
    "list1 = [[1, 2], [3, 4], [1, 2], [5, 6]]\n",
    "\n",
    "# Remove duplicate elements using a list comprehension\n",
    "list2 = [list(x) for x in set(map(tuple, list1))]\n",
    "\n",
    "# Print the list without duplicates\n",
    "print(list2)\n"
   ]
  }
 ],
 "metadata": {
  "kernelspec": {
   "display_name": "Python 3",
   "language": "python",
   "name": "python3"
  },
  "language_info": {
   "codemirror_mode": {
    "name": "ipython",
    "version": 3
   },
   "file_extension": ".py",
   "mimetype": "text/x-python",
   "name": "python",
   "nbconvert_exporter": "python",
   "pygments_lexer": "ipython3",
   "version": "3.10.11"
  },
  "orig_nbformat": 4
 },
 "nbformat": 4,
 "nbformat_minor": 2
}
