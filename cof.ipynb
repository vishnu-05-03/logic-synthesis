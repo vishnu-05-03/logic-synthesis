{
 "cells": [
  {
   "cell_type": "code",
   "execution_count": 251,
   "metadata": {},
   "outputs": [
    {
     "name": "stdout",
     "output_type": "stream",
     "text": [
      "[['a', 'c'], ['C', 'd']]\n"
     ]
    }
   ],
   "source": [
    "f = \"abc+Bd+Cd\"\n",
    "cwt = \"b\"\n",
    "\n",
    "# seperate the string based of +\n",
    "f = f.split(\"+\")\n",
    "f = [list(i) for i in f]\n",
    "\n",
    "# cofactor with respect to A\n",
    "\n",
    "def cofactor(f, cwt):\n",
    "\n",
    "    for i in range(len(f)):\n",
    "        if cwt.islower():\n",
    "            f[i] = [j.replace(cwt.lower(), \"1\") for j in f[i]]\n",
    "            f[i] = [j.replace(cwt.upper(), \"0\") for j in f[i]]\n",
    "        else:\n",
    "            f[i] = [j.replace(cwt.lower(), \"0\") for j in f[i]]\n",
    "            f[i] = [j.replace(cwt.upper(), \"1\") for j in f[i]]\n",
    "\n",
    "    for i in f[:]:\n",
    "        rem = False\n",
    "    \n",
    "        for j in i:\n",
    "            if j == '0':\n",
    "                rem = True\n",
    "                break\n",
    "        if rem:\n",
    "            f.remove(i)\n",
    "\n",
    "        for j in i:\n",
    "            if j == '1':\n",
    "                i.remove(j)\n",
    "                if len(i) == 0:\n",
    "                    i.append(\"1\")\n",
    "    \n",
    "    for i in f:\n",
    "        if i == ['1']:\n",
    "            return i\n",
    "    return f\n",
    "\n",
    "cwt = list(cwt)\n",
    "for i in cwt:\n",
    "    f = cofactor(f, i)\n",
    "\n",
    "\n",
    "print(f)\n",
    "\n",
    "\n"
   ]
  },
  {
   "cell_type": "code",
   "execution_count": 252,
   "metadata": {},
   "outputs": [
    {
     "data": {
      "text/plain": [
       "'ac+Cd'"
      ]
     },
     "execution_count": 252,
     "metadata": {},
     "output_type": "execute_result"
    }
   ],
   "source": [
    "reduced_exp = \"\"\n",
    "for i in f:\n",
    "    reduced_exp += \"\".join(i)\n",
    "    reduced_exp += \"+\"\n",
    "\n",
    "reduced_exp = reduced_exp.rstrip(\"+\")\n",
    "reduced_exp"
   ]
  },
  {
   "cell_type": "code",
   "execution_count": 178,
   "metadata": {},
   "outputs": [
    {
     "name": "stdout",
     "output_type": "stream",
     "text": [
      "1\n",
      "2\n",
      "3\n",
      "4\n",
      "5\n",
      "6\n",
      "7\n",
      "8\n",
      "9\n",
      "10\n",
      "11\n",
      "12\n",
      "13\n",
      "14\n",
      "15\n"
     ]
    },
    {
     "data": {
      "text/plain": [
       "['6', '7', '8', '9', '10', '11', '12', '13', '14', '15']"
      ]
     },
     "execution_count": 178,
     "metadata": {},
     "output_type": "execute_result"
    }
   ],
   "source": [
    "a = ['1','2','3','4','5','6','7','8','9','10','11','12','13','14','15']\n",
    "\n",
    "for i in a[:]:\n",
    "    print(i)\n",
    "    if i == '1' or i == '2' or i == '3' or i == '4' or i == '5':\n",
    "        a.remove(i)\n",
    "\n",
    "a"
   ]
  },
  {
   "cell_type": "code",
   "execution_count": 1,
   "metadata": {},
   "outputs": [
    {
     "data": {
      "text/plain": [
       "['b', 'c', 'd']"
      ]
     },
     "execution_count": 1,
     "metadata": {},
     "output_type": "execute_result"
    }
   ],
   "source": [
    "a = 'bcd'\n",
    "li = list(a)\n",
    "li"
   ]
  }
 ],
 "metadata": {
  "kernelspec": {
   "display_name": "Python 3",
   "language": "python",
   "name": "python3"
  },
  "language_info": {
   "codemirror_mode": {
    "name": "ipython",
    "version": 3
   },
   "file_extension": ".py",
   "mimetype": "text/x-python",
   "name": "python",
   "nbconvert_exporter": "python",
   "pygments_lexer": "ipython3",
   "version": "3.10.11"
  },
  "orig_nbformat": 4
 },
 "nbformat": 4,
 "nbformat_minor": 2
}
