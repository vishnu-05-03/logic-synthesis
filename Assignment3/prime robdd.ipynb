{
 "cells": [
  {
   "cell_type": "code",
   "execution_count": 2,
   "metadata": {},
   "outputs": [
    {
     "name": "stdout",
     "output_type": "stream",
     "text": [
      "Postorder traversal of binary tree is:\n",
      "4 5 2 6 3 1 "
     ]
    }
   ],
   "source": [
    "# # Python program for postorder traversals\n",
    "\n",
    "# # Structure of a Binary Tree Node\n",
    "\n",
    "\n",
    "# class Node:\n",
    "# \tdef __init__(self, v):\n",
    "# \t\tself.data = v\n",
    "# \t\tself.left = None\n",
    "# \t\tself.right = None\n",
    "\n",
    "# # Function to print postorder traversal\n",
    "\n",
    "\n",
    "# def printPostorder(node):\n",
    "# \tif node == None:\n",
    "# \t\treturn\n",
    "\n",
    "# \t# First recur on left subtree\n",
    "# \tprintPostorder(node.left)\n",
    "\n",
    "# \t# Then recur on right subtree\n",
    "# \tprintPostorder(node.right)\n",
    "\n",
    "# \t# Now deal with the node\n",
    "# \tprint(node.data, end=' ')\n",
    "\n",
    "\n",
    "# # Driver code\n",
    "# if __name__ == '__main__':\n",
    "# \troot = Node(1)\n",
    "# \troot.left = Node(2)\n",
    "# \troot.right = Node(3)\n",
    "# \troot.left.left = Node(4)\n",
    "# \troot.left.right = Node(5)\n",
    "# \troot.right.right = Node(6)\n",
    "\n",
    "# \t# Function call\n",
    "# \tprint(\"Postorder traversal of binary tree is:\")\n",
    "# \tprintPostorder(root)\n"
   ]
  },
  {
   "cell_type": "code",
   "execution_count": 59,
   "metadata": {},
   "outputs": [],
   "source": [
    "class Node:\n",
    "    def __init__(self, v):\n",
    "        self.data = v\n",
    "        self.left = None\n",
    "        self.right = None\n",
    "        self.level = None"
   ]
  },
  {
   "cell_type": "code",
   "execution_count": 121,
   "metadata": {},
   "outputs": [
    {
     "name": "stdout",
     "output_type": "stream",
     "text": [
      "{'abcd+AbD': ['bcd', 'bD', ['c', 'a', 'b', 'd']], 'bD': ['D', '0', ['b', 'd']], 'D': ['0', '1', ['d']], 'bcd': ['cd', '0', ['c', 'b', 'd']], 'cd': ['d', '0', ['c', 'd']], 'd': ['1', '0', ['d']], '0': ['0', '0', ['0']], '1': ['1', '1', ['1']]}\n"
     ]
    }
   ],
   "source": [
    "# abcd+AbD\n",
    "# a<b<c<d\n",
    "order = {'a': 0, 'b': 1, 'c': 2, 'd': 3}\n",
    "\n",
    "dictionary = {'abcd+AbD': ['bcd', 'bD'], 'bD': ['D', '0'], 'D': ['0', '1'], 'bcd': ['cd', '0'], 'cd': ['d', '0'], 'd': ['1', '0'], '0': ['0', '0'], '1': ['1', '1']}\n",
    "\n",
    "def vars(key):\n",
    "    k = list(key)\n",
    "    for i in k:\n",
    "        if i == '+':\n",
    "            k.remove(i)\n",
    "    for i in k:\n",
    "        if i.isupper():\n",
    "            low = i.lower()\n",
    "            k.remove(i)\n",
    "            k.append(low)\n",
    "    return list(set(k))\n",
    "\n",
    "for key in dictionary:\n",
    "    dictionary[key].append(vars(key))\n",
    "\n",
    "print(dictionary)"
   ]
  },
  {
   "cell_type": "code",
   "execution_count": 123,
   "metadata": {},
   "outputs": [
    {
     "name": "stdout",
     "output_type": "stream",
     "text": [
      "1 1 1\n",
      "D 1 0\n",
      "bD 0 D\n",
      "0 0 0\n",
      "d 0 1\n",
      "cd 0 d\n",
      "bcd 0 cd\n",
      "abcd+AbD bD bcd\n"
     ]
    }
   ],
   "source": [
    "# Function to convert the dictionary to a binary tree and save all the nodes in a list\n",
    "nodes = []\n",
    "def convert(dictionary, key, order):\n",
    "    if key == '1':\n",
    "        node = Node(key)\n",
    "        node.left = Node('1')\n",
    "        node.right = Node('1')\n",
    "        node.level = 'base'\n",
    "        nodes.append(node)\n",
    "        return node\n",
    "    elif key == '0':\n",
    "        node = Node(key)\n",
    "        node.left = Node('0')\n",
    "        node.right = Node('0')\n",
    "        node.level = 'base'\n",
    "        nodes.append(node)\n",
    "        return node\n",
    "    else:\n",
    "        node = Node(key)\n",
    "        node.left = convert(dictionary, dictionary[key][1], order)\n",
    "        node.right = convert(dictionary, dictionary[key][0], order)\n",
    "        \n",
    "\n",
    "        nodes.append(node)\n",
    "        return node\n",
    "\n",
    "convert(dictionary, list(dictionary.keys())[0], order)\n",
    "\n",
    "for node in nodes:\n",
    "    for n in nodes:\n",
    "        if node.left.data == n.left.data and node.right.data == n.right.data and node.data == n.data and node != n:\n",
    "            nodes.remove(n)\n",
    "\n",
    "\n",
    "for node in nodes:\n",
    "    print(node.data, node.left.data, node.right.data)"
   ]
  },
  {
   "cell_type": "code",
   "execution_count": 120,
   "metadata": {},
   "outputs": [
    {
     "name": "stdout",
     "output_type": "stream",
     "text": [
      "{'abcd+AbD': ['bcd', 'bD', ['c', 'a', 'b', 'd']], 'bD': ['D', '0', ['b', 'd']], 'D': ['0', '1', ['d']], 'bcd': ['cd', '0', ['c', 'b', 'd']], 'cd': ['d', '0', ['c', 'd']], 'd': ['1', '0', ['d']], '0': ['0', '0', ['0']], '1': ['1', '1', ['1']]}\n"
     ]
    }
   ],
   "source": []
  },
  {
   "cell_type": "code",
   "execution_count": 83,
   "metadata": {},
   "outputs": [
    {
     "data": {
      "text/plain": [
       "'a'"
      ]
     },
     "execution_count": 83,
     "metadata": {},
     "output_type": "execute_result"
    }
   ],
   "source": [
    "b = 'A'.lower()\n",
    "b"
   ]
  }
 ],
 "metadata": {
  "kernelspec": {
   "display_name": "Python 3",
   "language": "python",
   "name": "python3"
  },
  "language_info": {
   "codemirror_mode": {
    "name": "ipython",
    "version": 3
   },
   "file_extension": ".py",
   "mimetype": "text/x-python",
   "name": "python",
   "nbconvert_exporter": "python",
   "pygments_lexer": "ipython3",
   "version": "3.10.11"
  }
 },
 "nbformat": 4,
 "nbformat_minor": 2
}
