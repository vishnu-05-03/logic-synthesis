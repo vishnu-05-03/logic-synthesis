{
 "cells": [
  {
   "cell_type": "code",
   "execution_count": 1,
   "metadata": {},
   "outputs": [],
   "source": [
    "# # Program to find the cofactor of a boolean expression with respect to a term\n",
    "\n",
    "# \"\"\"\n",
    "# Input format is SoP and COMPLIMENTED literal is represented BY UPPER CASE and UNCOMPLEMENTED literal is represented BY LOWER CASE.\n",
    "# Example: A'B'C + A'BC + AB'C + ABC\n",
    "# Enter the expression: ABc+Abc+aBc+abc\n",
    "# Enter the term with respect to which you want to find the cofactor: a\n",
    "# Output: Bc+bc\n",
    "# \"\"\"\n",
    "\n",
    "# # Input SoP expression\n",
    "# f = 'ABc+Abc+aBc+abc' #input(\"Enter the expression: \")\n",
    "\n",
    "# # Input the term with respect to which you want to find the cofactor. It can be term with more than one literals\n",
    "# cwt = 'A' #input(\"Enter the term with respect to which you want to find the cofactor: \")\n",
    "\n",
    "# # seperating the string for further processing\n",
    "# f = f.split(\"+\")\n",
    "# f = [list(i) for i in f]\n",
    "\n",
    "# # Function for finding the cofactor of a boolean SoP expression with respect to a single literal\n",
    "# def cofactor(f, cwt):\n",
    "\n",
    "#     for i in range(len(f)):\n",
    "#         if cwt.islower():\n",
    "#             f[i] = [j.replace(cwt.lower(), \"1\") for j in f[i]]\n",
    "#             f[i] = [j.replace(cwt.upper(), \"0\") for j in f[i]]\n",
    "#         else:\n",
    "#             f[i] = [j.replace(cwt.lower(), \"0\") for j in f[i]]\n",
    "#             f[i] = [j.replace(cwt.upper(), \"1\") for j in f[i]]\n",
    "\n",
    "#     # f[:] is used to make a copy of f\n",
    "#     for i in f[:]:\n",
    "#         rem = False\n",
    "\n",
    "#         for j in i:\n",
    "#             if j == '0':\n",
    "#                 rem = True\n",
    "#                 break\n",
    "#         if rem:\n",
    "#             f.remove(i)\n",
    "\n",
    "#         for j in i:\n",
    "#             if j == '1':\n",
    "#                 i.remove(j)\n",
    "#                 if len(i) == 0:\n",
    "#                     i.append(\"1\")\n",
    "\n",
    "#     for i in f:\n",
    "#         if i == ['1']:\n",
    "#             return i\n",
    "#     return f\n",
    "\n",
    "# # cwt is split to list and iterated over each literal\n",
    "# cwt = list(cwt)\n",
    "# for i in cwt:\n",
    "#     f = cofactor(f, i)\n",
    "\n",
    "# # Combining the reduced expression to a single string\n",
    "# reduced_exp = \"\"\n",
    "# for i in f:\n",
    "#     reduced_exp += \"\".join(i)\n",
    "#     reduced_exp += \"+\"\n",
    "# reduced_exp = reduced_exp.rstrip(\"+\")\n",
    "\n",
    "\n",
    "# # Printing the reduced expression\n",
    "# print(reduced_exp)\n"
   ]
  },
  {
   "cell_type": "code",
   "execution_count": 2,
   "metadata": {},
   "outputs": [],
   "source": [
    "def cofactor(f,cwt):\n",
    "    # seperating the string for further processing\n",
    "    f = f.split(\"+\")\n",
    "    f = [list(i) for i in f]\n",
    "\n",
    "    # Function for finding the cofactor of a boolean SoP expression with respect to a single literal\n",
    "    def cofactor_1(f, cwt):\n",
    "\n",
    "        for i in range(len(f)):\n",
    "            if cwt.islower():\n",
    "                f[i] = [j.replace(cwt.lower(), \"1\") for j in f[i]]\n",
    "                f[i] = [j.replace(cwt.upper(), \"0\") for j in f[i]]\n",
    "            else:\n",
    "                f[i] = [j.replace(cwt.lower(), \"0\") for j in f[i]]\n",
    "                f[i] = [j.replace(cwt.upper(), \"1\") for j in f[i]]\n",
    "            # f[:] is used to make a copy of f\n",
    "        for i in f[:]:\n",
    "            rem = False\n",
    "\n",
    "            for j in i:\n",
    "                if j == '0':\n",
    "                    rem = True\n",
    "                    break\n",
    "            if rem:\n",
    "                f.remove(i)\n",
    "\n",
    "            for j in i:\n",
    "                if j == '1':\n",
    "                    i.remove(j)\n",
    "                    if len(i) == 0:\n",
    "                        i.append(\"1\")\n",
    "\n",
    "        for i in f:\n",
    "            if i == ['1']:\n",
    "                return i\n",
    "        return f\n",
    "    \n",
    "    # cwt is split to list and iterated over each literal\n",
    "    cwt = list(cwt)\n",
    "    for i in cwt:\n",
    "        f = cofactor_1(f, i)\n",
    "\n",
    "    # Combining the reduced expression to a single string\n",
    "    reduced_exp = \"\"\n",
    "    for i in f:\n",
    "        reduced_exp += \"\".join(i)\n",
    "        reduced_exp += \"+\"\n",
    "    reduced_exp = reduced_exp.rstrip(\"+\")\n",
    "\n",
    "    return reduced_exp\n"
   ]
  },
  {
   "cell_type": "code",
   "execution_count": 3,
   "metadata": {},
   "outputs": [],
   "source": [
    "def OR(f1, f2):\n",
    "    \n",
    "    f1 = f1.split(\"+\")\n",
    "    f1 = [list(i) for i in f1]\n",
    "\n",
    "    f2 = f2.split(\"+\")\n",
    "    f2 = [list(i) for i in f2]\n",
    "\n",
    "    F = []\n",
    "\n",
    "    F = f1 + f2\n",
    "\n",
    "    # for removing duplicate literals in a cube\n",
    "    for i in range(len(F)):\n",
    "        F[i] = [x for x in set(F[i])]\n",
    "\n",
    "    # for removing duplicate cubes\n",
    "    F = [list(x) for x in set(map(tuple, F))]\n",
    "\n",
    "    # replace and of a literal and its compliment with 0\n",
    "    for i in range(len(F)):\n",
    "        if any(j.isupper() and j.lower() in F[i] for j in F[i]):\n",
    "            F[i] = ['0']\n",
    "\n",
    "    for i in F[:]:\n",
    "        rem = False\n",
    "\n",
    "        # remove term if it is 0\n",
    "        for j in i:\n",
    "            if j == '0':\n",
    "                rem = True\n",
    "                break\n",
    "        if rem:\n",
    "            F.remove(i)\n",
    "            if len(F) == 0:\n",
    "                F.append(\"0\")\n",
    "\n",
    "        # remove multiple 1's\n",
    "        for j in i:\n",
    "            if j == '1':\n",
    "                i.remove(j)\n",
    "                if len(i) == 0:\n",
    "                    i.append(\"1\")\n",
    "    \n",
    "    for i in F:\n",
    "        if i == ['1']:\n",
    "            F = i\n",
    "\n",
    "    f = \"\"\n",
    "    for i in F:\n",
    "        f += \"\".join(i)\n",
    "        f += \"+\"\n",
    "    f = f.rstrip(\"+\")\n",
    "\n",
    "    return f"
   ]
  },
  {
   "cell_type": "code",
   "execution_count": 4,
   "metadata": {},
   "outputs": [],
   "source": [
    "def AND(f1, f2):\n",
    "\n",
    "    f1 = f1.split(\"+\")\n",
    "    f1 = [list(i) for i in f1]\n",
    "\n",
    "    f2 = f2.split(\"+\")\n",
    "    f2 = [list(i) for i in f2]\n",
    "\n",
    "    F = []\n",
    "\n",
    "    for i in f1:\n",
    "        for j in f2:\n",
    "            F.append(i+j)\n",
    "    \n",
    "    # for removing duplicate literals in a cube\n",
    "    for i in range(len(F)):\n",
    "        F[i] = [x for x in set(F[i])]\n",
    "\n",
    "    # for removing duplicate cubes\n",
    "    F = [list(x) for x in set(map(tuple, F))]\n",
    "\n",
    "    # replace and of a literal and its compliment with 0\n",
    "    for i in range(len(F)):\n",
    "        if any(j.isupper() and j.lower() in F[i] for j in F[i]):\n",
    "            F[i] = ['0']\n",
    "\n",
    "    for i in F[:]:\n",
    "        rem = False\n",
    "\n",
    "        # remove term if it is 0\n",
    "        for j in i:\n",
    "            if j == '0':\n",
    "                rem = True\n",
    "                break\n",
    "        if rem:\n",
    "            F.remove(i)\n",
    "            if len(F) == 0:\n",
    "                F.append(\"0\")\n",
    "\n",
    "        # remove multiple 1's\n",
    "        for j in i:\n",
    "            if j == '1':\n",
    "                i.remove(j)\n",
    "                if len(i) == 0:\n",
    "                    i.append(\"1\")\n",
    "    \n",
    "    for i in F:\n",
    "        if i == ['1']:\n",
    "            F = i\n",
    "\n",
    "    f = \"\"\n",
    "    for i in F:\n",
    "        f += \"\".join(i)\n",
    "        f += \"+\"\n",
    "    f = f.rstrip(\"+\")\n",
    "\n",
    "    return f"
   ]
  },
  {
   "cell_type": "code",
   "execution_count": 5,
   "metadata": {},
   "outputs": [
    {
     "name": "stdout",
     "output_type": "stream",
     "text": [
      "d\n",
      "0\n"
     ]
    }
   ],
   "source": [
    "f1 = \"aAb+cDd\"\n",
    "f2 = \"d\"\n",
    "\n",
    "print(OR(f1,f2))\n",
    "print(AND(f1,f2))"
   ]
  },
  {
   "cell_type": "code",
   "execution_count": 6,
   "metadata": {},
   "outputs": [
    {
     "name": "stdout",
     "output_type": "stream",
     "text": [
      "0\n",
      "abc\n"
     ]
    }
   ],
   "source": [
    "def replace_string(string):\n",
    "  \"\"\"Replaces the entire string with a string \"0\" if both upper and lower case of any letter is present in the given string.\n",
    "\n",
    "  Args:\n",
    "    string: A string of variable length consisting of alphabets both upper and lower case.\n",
    "\n",
    "  Returns:\n",
    "    A string \"0\" if both upper and lower case of any letter is present in the given string, else the original string.\n",
    "  \"\"\"\n",
    "\n",
    "  # Create a set of all the characters in the string.\n",
    "  characters = set(string)\n",
    "\n",
    "  # Check if both upper and lower case of any letter is present in the string.\n",
    "  if any(character.isupper() and character.lower() in characters for character in characters):\n",
    "    return \"0\"\n",
    "\n",
    "  # If both upper and lower case of any letter is not present in the string, return the original string.\n",
    "  return string\n",
    "\n",
    "\n",
    "# Test the function.\n",
    "string = \"aAbBcC\"\n",
    "print(replace_string(string))\n",
    "\n",
    "string = \"abc\"\n",
    "print(replace_string(string))\n"
   ]
  },
  {
   "cell_type": "code",
   "execution_count": 7,
   "metadata": {},
   "outputs": [
    {
     "data": {
      "text/plain": [
       "['0']"
      ]
     },
     "execution_count": 7,
     "metadata": {},
     "output_type": "execute_result"
    }
   ],
   "source": [
    "characters = ['a','b','c','A']\n",
    "if any(character.isupper() and character.lower() in characters for character in characters):\n",
    "    characters = ['0']\n",
    "\n",
    "characters"
   ]
  },
  {
   "cell_type": "code",
   "execution_count": 8,
   "metadata": {},
   "outputs": [
    {
     "name": "stdout",
     "output_type": "stream",
     "text": [
      "[1, 2, 3, 4, 5, 6]\n"
     ]
    }
   ],
   "source": [
    "list1 = [6,1, 2, 3, 4, 5, 1, 2, 3]\n",
    "\n",
    "# Remove duplicate elements using a list comprehension\n",
    "list2 = [x for x in set(list1)]\n",
    "\n",
    "# Print the list without duplicates\n",
    "print(list2)\n"
   ]
  },
  {
   "cell_type": "code",
   "execution_count": 9,
   "metadata": {},
   "outputs": [
    {
     "name": "stdout",
     "output_type": "stream",
     "text": [
      "[[1, 2], [3, 4], [5, 6]]\n"
     ]
    }
   ],
   "source": [
    "list1 = [[1, 2], [3, 4], [1, 2], [5, 6]]\n",
    "\n",
    "# Remove duplicate elements using a list comprehension\n",
    "list2 = [list(x) for x in set(map(tuple, list1))]\n",
    "\n",
    "# Print the list without duplicates\n",
    "print(list2)\n"
   ]
  },
  {
   "cell_type": "code",
   "execution_count": 10,
   "metadata": {},
   "outputs": [],
   "source": [
    "def NOT(f):\n",
    "    # seperating the string for further processing\n",
    "    f = f.split(\"+\")\n",
    "    f = [list(i) for i in f]\n",
    "\n",
    "    # print(f)\n",
    "\n",
    "    for i in range(len(f)):\n",
    "        for j in range(len(f[i])):\n",
    "            c = f[i][j]\n",
    "            f[i][j] = c.upper() if c.islower() else c.lower()\n",
    "\n",
    "    # print(f)\n",
    "    for i in range(len(f)):\n",
    "        str = []\n",
    "        for j in range(len(f[i])):\n",
    "            str += f[i][j] + (\"+\" if j != len(f[i])-1 else \"\") \n",
    "        f[i] = str\n",
    "\n",
    "    # print(f)\n",
    "    str1 = \"\"\n",
    "    for j in range(len(f[0])):\n",
    "        str1+=f[0][j]\n",
    "    F = str1\n",
    "    \n",
    "    for i in range(1,len(f)):\n",
    "        str2 = \"\"\n",
    "        for j in range(len(f[i])):\n",
    "            str2+=f[i][j]\n",
    "\n",
    "        # print(str1+'\\n')\n",
    "        # print(str2+'\\n')\n",
    "        \n",
    "        F = AND(F, str2)\n",
    "        # f[i] = AND(str1, str2)\n",
    "\n",
    "    return F\n"
   ]
  },
  {
   "cell_type": "code",
   "execution_count": 11,
   "metadata": {},
   "outputs": [],
   "source": [
    "def bool_difference(f,cwt):\n",
    "    a = AND(cofactor(f,cwt), NOT(cofactor(f,NOT(cwt)))) \n",
    "    b = AND(NOT(cofactor(f,cwt)), cofactor(f,NOT(cwt)))\n",
    "\n",
    "    return OR(a,b)\n"
   ]
  },
  {
   "cell_type": "code",
   "execution_count": 12,
   "metadata": {},
   "outputs": [
    {
     "data": {
      "text/plain": [
       "['a']"
      ]
     },
     "execution_count": 12,
     "metadata": {},
     "output_type": "execute_result"
    }
   ],
   "source": [
    "st = \"a\"\n",
    "\n",
    "st = st.split(\"+\")\n",
    "st"
   ]
  },
  {
   "cell_type": "code",
   "execution_count": 13,
   "metadata": {},
   "outputs": [],
   "source": [
    "def consensus(f,wrt):\n",
    "    return AND(cofactor(f,wrt), cofactor(f,NOT(wrt)))"
   ]
  },
  {
   "cell_type": "code",
   "execution_count": 14,
   "metadata": {},
   "outputs": [],
   "source": [
    "def smoothing(f,wrt):\n",
    "    return OR(cofactor(f,wrt), cofactor(f,NOT(wrt)))"
   ]
  },
  {
   "cell_type": "code",
   "execution_count": 15,
   "metadata": {},
   "outputs": [
    {
     "data": {
      "text/plain": [
       "'dfE+dBfcE'"
      ]
     },
     "execution_count": 15,
     "metadata": {},
     "output_type": "execute_result"
    }
   ],
   "source": [
    "f = \"aBc+dEf\"\n",
    "cwt = \"a\"\n",
    "\n",
    "\n",
    "consensus(f,cwt)"
   ]
  },
  {
   "cell_type": "code",
   "execution_count": 17,
   "metadata": {},
   "outputs": [
    {
     "name": "stdout",
     "output_type": "stream",
     "text": [
      "0\n"
     ]
    }
   ],
   "source": [
    "a = \"ab+bc+bcd\"\n",
    "b = \"ab+bc\"\n",
    "\n",
    "print(AND(NOT(a),b))"
   ]
  }
 ],
 "metadata": {
  "kernelspec": {
   "display_name": "Python 3",
   "language": "python",
   "name": "python3"
  },
  "language_info": {
   "codemirror_mode": {
    "name": "ipython",
    "version": 3
   },
   "file_extension": ".py",
   "mimetype": "text/x-python",
   "name": "python",
   "nbconvert_exporter": "python",
   "pygments_lexer": "ipython3",
   "version": "3.10.11"
  },
  "orig_nbformat": 4
 },
 "nbformat": 4,
 "nbformat_minor": 2
}
