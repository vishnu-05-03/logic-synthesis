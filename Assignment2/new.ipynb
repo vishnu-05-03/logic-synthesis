{
 "cells": [
  {
   "cell_type": "code",
   "execution_count": 4,
   "metadata": {},
   "outputs": [
    {
     "ename": "ModuleNotFoundError",
     "evalue": "No module named 'sympy'",
     "output_type": "error",
     "traceback": [
      "\u001b[1;31m---------------------------------------------------------------------------\u001b[0m",
      "\u001b[1;31mModuleNotFoundError\u001b[0m                       Traceback (most recent call last)",
      "\u001b[1;32md:\\NITK\\5th sem\\logic synthesis\\Assignment2\\new.ipynb Cell 1\u001b[0m line \u001b[0;36m1\n\u001b[1;32m----> <a href='vscode-notebook-cell:/d%3A/NITK/5th%20sem/logic%20synthesis/Assignment2/new.ipynb#W1sZmlsZQ%3D%3D?line=0'>1</a>\u001b[0m \u001b[39mimport\u001b[39;00m \u001b[39msympy\u001b[39;00m \u001b[39mas\u001b[39;00m \u001b[39msy\u001b[39;00m\n\u001b[0;32m      <a href='vscode-notebook-cell:/d%3A/NITK/5th%20sem/logic%20synthesis/Assignment2/new.ipynb#W1sZmlsZQ%3D%3D?line=2'>3</a>\u001b[0m \u001b[39mclass\u001b[39;00m \u001b[39mROBDDNode\u001b[39;00m:\n\u001b[0;32m      <a href='vscode-notebook-cell:/d%3A/NITK/5th%20sem/logic%20synthesis/Assignment2/new.ipynb#W1sZmlsZQ%3D%3D?line=3'>4</a>\u001b[0m     \u001b[39mdef\u001b[39;00m \u001b[39m__init__\u001b[39m(\u001b[39mself\u001b[39m, var, low, high):\n",
      "\u001b[1;31mModuleNotFoundError\u001b[0m: No module named 'sympy'"
     ]
    }
   ],
   "source": [
    "import sympy as sy\n",
    "\n",
    "class ROBDDNode:\n",
    "    def __init__(self, var, low, high):\n",
    "        self.var = var  # Variable (0 for False, 1 for True)\n",
    "        self.low = low  # Low branch\n",
    "        self.high = high  # High branch\n",
    "\n",
    "\n",
    "def build_robdd(expression, variables, var_index=0):\n",
    "    if var_index == len(variables):\n",
    "        if expression:\n",
    "            return ROBDDNode(1, None, None)\n",
    "        else:\n",
    "            return ROBDDNode(0, None, None)\n",
    "    var = variables[var_index]\n",
    "    low_expression = expression.subs(var, False)\n",
    "    high_expression = expression.subs(var, True)\n",
    "\n",
    "    low_robdd = build_robdd(low_expression, variables, var_index + 1)\n",
    "    high_robdd = build_robdd(high_expression, variables, var_index + 1)\n",
    "\n",
    "    if low_robdd == high_robdd:\n",
    "        return low_robdd\n",
    "\n",
    "    return ROBDDNode(var_index, low_robdd, high_robdd)\n",
    "\n",
    "\n",
    "def robdd_simplify(node):\n",
    "    if node.low == node.high:\n",
    "        return node.low\n",
    "    elif node.low.var == node.high.var:\n",
    "        low_simplified = robdd_simplify(node.low)\n",
    "        high_simplified = robdd_simplify(node.high)\n",
    "        if low_simplified == high_simplified:\n",
    "            return low_simplified\n",
    "        else:\n",
    "            return ROBDDNode(node.low.var, low_simplified, high_simplified)\n",
    "    else:\n",
    "        return ROBDDNode(node.var, robdd_simplify(node.low), robdd_simplify(node.high))\n",
    "\n",
    "\n",
    "def print_robdd(node, var_names, indent=\"\"):\n",
    "    if node.var == 0:\n",
    "        print(f\"{indent}0\")\n",
    "    elif node.var == 1:\n",
    "        print(f\"{indent}1\")\n",
    "    else:\n",
    "        print(f\"{indent}{var_names[node.var]}\")\n",
    "        print_robdd(node.low, var_names, indent + \" 0: \")\n",
    "        print_robdd(node.high, var_names, indent + \" 1: \")\n",
    "\n",
    "\n",
    "# Example usage\n",
    "from sympy import symbols, Or\n",
    "\n",
    "# Define the variables\n",
    "x, y, z = symbols('x y z')\n",
    "variables = [x, y, z]\n",
    "\n",
    "# Define a Boolean expression\n",
    "expression = Or(x & y, y & z)\n",
    "\n",
    "# Build and simplify the ROBDD\n",
    "robdd = build_robdd(expression, variables)\n",
    "simplified_robdd = robdd_simplify(robdd)\n",
    "\n",
    "# Print the ROBDD\n",
    "var_names = {0: '0', 1: '1', 2: 'x', 3: 'y', 4: 'z'}\n",
    "print(\"ROBDD for the expression:\")\n",
    "print(expression)\n",
    "print_robdd(simplified_robdd, var_names)\n"
   ]
  }
 ],
 "metadata": {
  "kernelspec": {
   "display_name": "Python 3",
   "language": "python",
   "name": "python3"
  },
  "language_info": {
   "codemirror_mode": {
    "name": "ipython",
    "version": 3
   },
   "file_extension": ".py",
   "mimetype": "text/x-python",
   "name": "python",
   "nbconvert_exporter": "python",
   "pygments_lexer": "ipython3",
   "version": "3.10.11"
  }
 },
 "nbformat": 4,
 "nbformat_minor": 2
}
